{
  "nbformat": 4,
  "nbformat_minor": 0,
  "metadata": {
    "colab": {
      "provenance": []
    },
    "kernelspec": {
      "name": "python3",
      "display_name": "Python 3"
    },
    "language_info": {
      "name": "python"
    }
  },
  "cells": [
    {
      "cell_type": "code",
      "execution_count": 1,
      "metadata": {
        "id": "DL-uk1EGY8SV"
      },
      "outputs": [],
      "source": [
        "from statistics import mean\n",
        "import numpy as np\n",
        "import matplotlib.pyplot as plt\n",
        "import numpy as np\n",
        "import math\n",
        "from numpy.polynomial.polynomial import Polynomial\n",
        "import random\n",
        "import matplotlib.pyplot as plt\n",
        "from scipy.interpolate import lagrange"
      ]
    },
    {
      "cell_type": "markdown",
      "source": [
        "This code generates a set of random points and performs polynomial interpolation using Lagrange polynomials. The original (x, y) data pairs are truncated to different decimal precisions (2, 4, 6, and 8 decimal places) to observe how the precision affects the resulting polynomial and its evaluation at random points. After generating the truncated lists, the polynomials are evaluated and the error is computed between the original and truncated polynomials. Finally, the norm of the errors is calculated to measure the impact of truncation."
      ],
      "metadata": {
        "id": "TOJwGF_yVM12"
      }
    },
    {
      "cell_type": "code",
      "source": [
        "# Function to truncate a list of floats to a given number of decimal places\n",
        "def truncated_lists(arr1, arr2, dec_places):\n",
        "    for i in range(n):\n",
        "        arr2.append(round(arr1[i], dec_places))\n",
        "    return arr2\n",
        "\n",
        "n = 30\n",
        "rand_range_low = -3\n",
        "rand_range_high = 3\n",
        "\n",
        "# Arrays to store original and truncated values for x and y\n",
        "x, x_trunc_2, x_trunc_4, x_trunc_6, x_trunc_8 = [], [], [], [], []\n",
        "y, y_trunc_2, y_trunc_4, y_trunc_6, y_trunc_8 = [], [], [], [], []\n",
        "\n",
        "# Generate 'n' random (x, y) pairs with 16 decimal points precision\n",
        "for i in range(n):\n",
        "    x.append(random.SystemRandom().uniform(rand_range_low, rand_range_high))\n",
        "    y.append(random.SystemRandom().uniform(rand_range_low, rand_range_high))\n",
        "\n",
        "# Generate truncated lists for x and y at different precision levels (2, 4, 6, 8 decimal places)\n",
        "truncated_lists(x, x_trunc_2, 2)\n",
        "truncated_lists(y, y_trunc_2, 2)\n",
        "\n",
        "truncated_lists(x, x_trunc_4, 4)\n",
        "truncated_lists(y, y_trunc_4, 4)\n",
        "\n",
        "truncated_lists(x, x_trunc_6, 6)\n",
        "truncated_lists(y, y_trunc_6, 6)\n",
        "\n",
        "truncated_lists(x, x_trunc_8, 8)\n",
        "truncated_lists(y, y_trunc_8, 8)\n",
        "\n",
        "# Perform polynomial interpolation using Lagrange method on the original and truncated data\n",
        "poly = lagrange(x, y)\n",
        "poly_trunc_8 = lagrange(x_trunc_8, y_trunc_8)\n",
        "poly_trunc_6 = lagrange(x_trunc_6, y_trunc_6)\n",
        "poly_trunc_4 = lagrange(x_trunc_4, y_trunc_4)\n",
        "poly_trunc_2 = lagrange(x_trunc_2, y_trunc_2)\n",
        "\n",
        "# Get the coefficients of the interpolated polynomials\n",
        "Polynomial(poly.coef[::-1]).coef\n",
        "Polynomial(poly_trunc_8.coef[::-1]).coef\n",
        "Polynomial(poly_trunc_4.coef[::-1]).coef\n",
        "Polynomial(poly_trunc_2.coef[::-1]).coef\n",
        "\n",
        "# Check for NaN coefficients (occurs when there are zeros in the truncated data)\n",
        "if (np.isnan(Polynomial(poly_trunc_2.coef[1]).coef) == 1):\n",
        "    print(\"lala\")\n",
        "\n",
        "'''\n",
        "NaN values often occur in the case of 2 decimal precision\n",
        "because of the higher chance of getting 0.00 in the truncated values.\n",
        "'''\n",
        "\n",
        "# Print polynomial evaluations at x = 1 and x = -1\n",
        "print(poly(1), poly(-1))\n",
        "print(poly_trunc_8(1), poly_trunc_8(-1))\n",
        "print(poly_trunc_6(1), poly_trunc_6(-1))\n",
        "print(poly_trunc_4(1), poly_trunc_4(-1))\n",
        "print(poly_trunc_2(1), poly_trunc_2(-1))\n",
        "\n",
        "# Generate random x values in the range (low2, high2) for evaluation\n",
        "num_pts = 30\n",
        "low2 = -3\n",
        "high2 = 3\n",
        "mu = 0\n",
        "sigma = 0.0\n",
        "\n",
        "x_rand = []\n",
        "for i in range(num_pts):\n",
        "    x_rand.append(random.SystemRandom().uniform(low2, high2))\n",
        "\n",
        "# Evaluate the original polynomial at the random points\n",
        "y_for_x_rand = []\n",
        "for i in range(num_pts):\n",
        "    y_for_x_rand.append(poly(x_rand[i]) + np.random.normal(mu, sigma))\n",
        "\n",
        "# Truncate the polynomial evaluation results to different precisions\n",
        "trunc_8 = []\n",
        "trunc_6 = []\n",
        "trunc_4 = []\n",
        "trunc_2 = []\n",
        "\n",
        "truncated_lists(y_for_x_rand, trunc_8, 8)\n",
        "truncated_lists(y_for_x_rand, trunc_6, 6)\n",
        "truncated_lists(y_for_x_rand, trunc_4, 4)\n",
        "truncated_lists(y_for_x_rand, trunc_2, 2)\n",
        "\n",
        "# Perform polynomial interpolation on the new truncated values\n",
        "new_poly = lagrange(x_rand, y_for_x_rand)\n",
        "new_poly_8 = lagrange(x_rand, trunc_8)\n",
        "new_poly_6 = lagrange(x_rand, trunc_6)\n",
        "new_poly_4 = lagrange(x_rand, trunc_4)\n",
        "new_poly_2 = lagrange(x_rand, trunc_2)\n",
        "\n",
        "# Compute the error between the original and the new polynomials\n",
        "err = [poly(1) - new_poly(1), poly(-1) - new_poly(-1)]\n",
        "print(np.linalg.norm(err))\n",
        "\n",
        "err8 = [poly_trunc_8(1) - new_poly_8(1), poly_trunc_8(-1) - new_poly_8(-1)]\n",
        "print(np.linalg.norm(err8))\n",
        "\n",
        "err6 = [poly_trunc_6(1) - new_poly_6(1), poly_trunc_6(-1) - new_poly_6(-1)]\n",
        "print(np.linalg.norm(err6))\n",
        "\n",
        "err4 = [poly_trunc_4(1) - new_poly_4(1), poly_trunc_4(-1) - new_poly_4(-1)]\n",
        "print(np.linalg.norm(err4))\n",
        "\n",
        "err2 = [poly_trunc_2(1) - new_poly_2(1), poly_trunc_2(-1) - new_poly_2(-1)]\n",
        "print(np.linalg.norm(err2))"
      ],
      "metadata": {
        "colab": {
          "base_uri": "https://localhost:8080/"
        },
        "id": "MybTwu2MVNmz",
        "outputId": "d7ba5520-abd0-4385-c1a4-5f649d2a5ec1"
      },
      "execution_count": 2,
      "outputs": [
        {
          "output_type": "stream",
          "name": "stdout",
          "text": [
            "63.8271382654857 1087177.7893678306\n",
            "63.82735038366809 1087179.5822952585\n",
            "63.831772285790066 1087222.3903566953\n",
            "64.53326519730763 1094026.5344483575\n",
            "17.354194261992234 675506.2541351634\n",
            "1.8224297425127547\n",
            "2.5757040377644564\n",
            "44.62380880015031\n",
            "6848.801585599397\n",
            "411671.5822601467\n"
          ]
        }
      ]
    },
    {
      "cell_type": "markdown",
      "source": [
        "This part of the code reads data from a file named lagrange.txt, which contains the degrees of Lagrange polynomials and the corresponding errors. It computes the mean errors for different polynomial precisions (2, 4, 6, 8, and full precision) across multiple trials and plots them on a semi-logarithmic scale. For each degree of polynomial, the errors are plotted with a unique label indicating the degree of the polynomial (e.g., 20, 25, etc.)."
      ],
      "metadata": {
        "id": "i6LklvIPWE90"
      }
    },
    {
      "cell_type": "code",
      "source": [
        "file = open('lagrange.txt', 'r')\n",
        "\n",
        "degrees = file.readline().split()\n",
        "num_plots = len(degrees)\n",
        "\n",
        "for i in range(num_plots):\n",
        "    degrees[i] = int(degrees[i])\n",
        "\n",
        "# 5 errors: full precision, 8, 4, 6, 2\n",
        "num_err = file.readline()\n",
        "num_trials = file.readline()\n",
        "\n",
        "def get_mean(arr):\n",
        "    for i in range(int(num_err)):\n",
        "        x1 = file.readline()\n",
        "        x1 = eval(x1)\n",
        "        x1 = np.array(x1)\n",
        "        arr.append(mean(x1))\n",
        "        return (mean(x1))\n",
        "\n",
        "for i in range(num_plots):\n",
        "    tmp20, tmp25, tmp30, tmp35, tmp40 = [], [], [], [], []\n",
        "\n",
        "    get_mean(tmp20)\n",
        "    get_mean(tmp25)\n",
        "    get_mean(tmp30)\n",
        "    get_mean(tmp35)\n",
        "    get_mean(tmp40)\n",
        "\n",
        "    #print(tmp20, tmp25, tmp30, tmp35, tmp40)\n",
        "\n",
        "    obj = ('2', '4', '6', '8', 'full_precision')\n",
        "    errs = [tmp20, tmp25, tmp30, tmp35, tmp40]\n",
        "    print(errs)\n",
        "    y_pos = np.arange(len(obj))\n",
        "\n",
        "    if (i==0):\n",
        "        q = 20\n",
        "        plt.semilogy(y_pos, errs, label=q, marker=\"o\")\n",
        "        plt.xticks(y_pos, obj)\n",
        "\n",
        "    elif (i==1):\n",
        "        q = 25\n",
        "        plt.semilogy(y_pos, errs, label=q, marker=\"o\")\n",
        "        plt.xticks(y_pos, obj)\n",
        "\n",
        "\n",
        "    elif (i==2):\n",
        "        q = 30\n",
        "        plt.semilogy(y_pos, errs, label=q, marker=\"o\")\n",
        "        plt.xticks(y_pos, obj)\n",
        "\n",
        "    elif (i==3):\n",
        "        q = 35\n",
        "        plt.semilogy(y_pos, errs, label=q, marker=\"o\")\n",
        "        plt.xticks(y_pos, obj)\n",
        "\n",
        "    elif (i==4):\n",
        "        q = 40\n",
        "        plt.semilogy(y_pos, errs, label=q, marker=\"o\")\n",
        "        plt.xticks(y_pos, obj)\n",
        "\n",
        "\n",
        "plt.legend()\n",
        "plt.ylabel('error')\n",
        "plt.title('errors')\n",
        "plt.show()"
      ],
      "metadata": {
        "colab": {
          "base_uri": "https://localhost:8080/",
          "height": 559
        },
        "id": "Bw4uW0r-U5ot",
        "outputId": "26822934-22f4-49d0-c03b-49a7783edb2c"
      },
      "execution_count": 3,
      "outputs": [
        {
          "output_type": "stream",
          "name": "stdout",
          "text": [
            "[[21775.288105153202], [1261.4390675226596], [36.81608831027176], [0.7572163919036137], [0.12303506384465702]]\n",
            "[[2128185.76967595], [23468.70850240321], [510.5781017144658], [152.92113197336224], [149.24601661867695]]\n",
            "[[24846971.042687967], [604796.9043148543], [5042.723582797881], [516.8411437463783], [451.4351006433486]]\n",
            "[[39565443.07852844], [773133.8779363475], [297664.41381708864], [281626.4428932882], [281604.712135322]]\n",
            "[[2144476985.2147949], [151223315.59738272], [140580244.59339276], [140617006.19458836], [140619634.77803952]]\n"
          ]
        },
        {
          "output_type": "display_data",
          "data": {
            "text/plain": [
              "<Figure size 640x480 with 1 Axes>"
            ],
            "image/png": "[encoded data removed]"
          },
          "metadata": {}
        }
      ]
    }
  ]
}